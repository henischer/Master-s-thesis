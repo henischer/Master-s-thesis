{
 "cells": [
  {
   "cell_type": "markdown",
   "id": "06550a83",
   "metadata": {},
   "source": [
    "#**Exploring RNA-seq data**\n",
    "###Master's thesis \"Investigating the transcriptional effects of divergent CTCF orthologs using RNA-seq\" \n",
    "###H. Scherrer\n",
    "\n",
    "R script to explore RNA-seq data set of \n",
    "* G4 WT cells (WT.G4)\n",
    "* OsTir1/CTCF-AID WT cells (WT.AID.B11)\n",
    "* OsTir1/CTCF-AID depleted cells (CTCF.AID.AUX) \n",
    "\n",
    "Script is representative for exploration of RNA-seq data set compromising  \n",
    "OsTir1/CTCF-AID WT cells (untreated), OsTir1/CTCF-AID depleted cells (auxin-treated),\n",
    "*Ciona robusta* CTCF ortholog replacement cells (auxin-treated), *Danio rerio* CTCF ortholog replacement cells (auxin-treated)"
   ]
  },
  {
   "cell_type": "markdown",
   "id": "37ee1f09",
   "metadata": {},
   "source": [
    "#####First load required packages"
   ]
  },
  {
   "cell_type": "code",
   "execution_count": null,
   "id": "9e8a8189",
   "metadata": {
    "scrolled": false
   },
   "outputs": [],
   "source": [
    "library(pheatmap)\n",
    "library(stats)\n",
    "library(ggplot2)\n",
    "library(ggfortify)\n",
    "library(corrplot)"
   ]
  },
  {
   "cell_type": "markdown",
   "id": "29a63f4a",
   "metadata": {},
   "source": [
    "#####Provide information sheet of samples"
   ]
  },
  {
   "cell_type": "code",
   "execution_count": 9,
   "id": "f27809b0",
   "metadata": {},
   "outputs": [
    {
     "name": "stdout",
     "output_type": "stream",
     "text": [
      "                           group       IAA condition\n",
      "WT.G4.rep1            WT_control untreated        WT\n",
      "WT.G4.rep2            WT_control untreated        WT\n",
      "WT.AID.B11.rep1   no_IAA_control untreated    mutant\n",
      "WT.AID.B11.rep2   no_IAA_control untreated    mutant\n",
      "CTCF.AID.AUX.rep1 CTCF_depletion   treated    mutant\n",
      "CTCF.AID.AUX.rep2 CTCF_depletion   treated    mutant\n"
     ]
    }
   ],
   "source": [
    "colData <- read.table('colData.tsv', header = T, sep = '\\t', stringsAsFactors = TRUE, row.names = 'sample_type')\n",
    "print(colData)"
   ]
  },
  {
   "cell_type": "markdown",
   "id": "eb95bb7b",
   "metadata": {},
   "source": [
    "#####Import TPM-normalized count matrix"
   ]
  },
  {
   "cell_type": "code",
   "execution_count": 4,
   "id": "ffbe32f5",
   "metadata": {},
   "outputs": [
    {
     "data": {
      "text/plain": [
       "   WT.G4.rep1          WT.G4.rep2        WT.AID.B11.rep1    WT.AID.B11.rep2   \n",
       " Min.   :    0.000   Min.   :    0.000   Min.   :    0.00   Min.   :    0.00  \n",
       " 1st Qu.:    0.000   1st Qu.:    0.000   1st Qu.:    0.00   1st Qu.:    0.00  \n",
       " Median :    0.031   Median :    0.088   Median :    0.04   Median :    0.08  \n",
       " Mean   :    8.540   Mean   :    8.540   Mean   :    8.54   Mean   :    8.54  \n",
       " 3rd Qu.:    1.334   3rd Qu.:    1.347   3rd Qu.:    1.23   3rd Qu.:    1.21  \n",
       " Max.   :25579.100   Max.   :27365.000   Max.   :31716.90   Max.   :35180.70  \n",
       " CTCF.AID.AUX.rep1   CTCF.AID.AUX.rep2  \n",
       " Min.   :    0.000   Min.   :    0.000  \n",
       " 1st Qu.:    0.000   1st Qu.:    0.000  \n",
       " Median :    0.078   Median :    0.025  \n",
       " Mean   :    8.540   Mean   :    8.540  \n",
       " 3rd Qu.:    1.295   3rd Qu.:    1.147  \n",
       " Max.   :28269.600   Max.   :30503.900  "
      ]
     },
     "metadata": {},
     "output_type": "display_data"
    }
   ],
   "source": [
    "tpm <- read.table('TPM_counts_from_SALMON.genes.tsv', header = T, sep = '\\t', row.names = 'Name')\n",
    "tpm <- subset(tpm, select = -c(row.names))\n",
    "tpm <- as.matrix(tpm)\n",
    "summary(tpm)"
   ]
  },
  {
   "cell_type": "markdown",
   "id": "fbf65d32",
   "metadata": {},
   "source": [
    "#####Remove genes in 'tpm' with no reads"
   ]
  },
  {
   "cell_type": "code",
   "execution_count": 5,
   "id": "085a8595",
   "metadata": {},
   "outputs": [],
   "source": [
    "tpm[tpm == 0] <- NA\n",
    "tpm_filtered <- tpm[!rowSums(!is.finite(tpm)),]"
   ]
  },
  {
   "cell_type": "markdown",
   "id": "d3e2535f",
   "metadata": {},
   "source": [
    "#####Compute PCA with the top 500 genes (variance)"
   ]
  },
  {
   "cell_type": "code",
   "execution_count": 10,
   "id": "1cd2a96c",
   "metadata": {},
   "outputs": [
    {
     "data": {
      "text/plain": [
       "Importance of components:\n",
       "                          PC1    PC2     PC3     PC4     PC5       PC6\n",
       "Standard deviation     8.0267 4.2522 1.92253 1.74111 1.45694 1.099e-14\n",
       "Proportion of Variance 0.7052 0.1979 0.04046 0.03318 0.02323 0.000e+00\n",
       "Cumulative Proportion  0.7052 0.9031 0.94358 0.97677 1.00000 1.000e+00"
      ]
     },
     "metadata": {},
     "output_type": "display_data"
    },
    {
     "data": {
      "image/png": "[encoded data removed]",
      "text/plain": [
       "plot without title"
      ]
     },
     "metadata": {
      "image/png": {
       "height": 420,
       "width": 420
      }
     },
     "output_type": "display_data"
    }
   ],
   "source": [
    "vars <- apply(tpm_filtered, 1, var)\n",
    "top500 <- names(vars[order(vars, decreasing = T)][1:500])\n",
    "mtrans <- t(tpm_filtered[top500,])\n",
    "mtrans <- log2(mtrans + 1)\n",
    "pca <- prcomp(mtrans)\n",
    "autoplot(pca, data = colData, colour = 'group', shape = 'IAA') + theme_classic(base_size = 18) + \n",
    "  labs(x=\"PC1\", y = \"PC2\") +\n",
    "  scale_colour_discrete(labels = c(\"CTCF-AID\", \"CTCF-AID\", \"G4 WT\"))\n",
    "summary(pca)\n"
   ]
  },
  {
   "cell_type": "markdown",
   "id": "292e9399",
   "metadata": {},
   "source": [
    "#####Calculate and plot correlation matrix"
   ]
  },
  {
   "cell_type": "code",
   "execution_count": 11,
   "id": "62ea7cca",
   "metadata": {
    "scrolled": false
   },
   "outputs": [
    {
     "data": {
      "image/png": "[encoded data removed]",
      "text/plain": [
       "Plot with title \"\""
      ]
     },
     "metadata": {
      "image/png": {
       "height": 420,
       "width": 420
      }
     },
     "output_type": "display_data"
    }
   ],
   "source": [
    "correlation <- cor(tpm_filtered)\n",
    "colnames(correlation) <- c(\"G4 WT rep1\", \"G4 WT rep2\", \"CTCF-AID +AUX rep1\", \"CTCF-AID +AUX rep2\", \"CTCF-AID rep1\", \"CTCF-AID rep2\")\n",
    "rownames(correlation) <- c(\"G4 WT rep1\", \"G4 WT rep2\", \"CTCF-AID +AUX rep1\", \"CTCF-AID +AUX rep2\", \"CTCF-AID rep1\", \"CTCF-AID rep2\")\n",
    "corrplot(correlation,type = 'lower', method = 'circle', order = 'hclust',\n",
    "         tl.col = 'black', cl.ratio = 0.2, addCoef.col = 'white', tl.srt = 45,\n",
    "         col = COL2('RdBu', 10))"
   ]
  },
  {
   "cell_type": "markdown",
   "id": "8b6a026e",
   "metadata": {},
   "source": [
    "####**Explore a single gene expression with DESeq2 data**"
   ]
  },
  {
   "cell_type": "code",
   "execution_count": null,
   "id": "3b58a7ed",
   "metadata": {},
   "outputs": [],
   "source": [
    "library(DESeq2)"
   ]
  },
  {
   "cell_type": "markdown",
   "id": "b340556a",
   "metadata": {},
   "source": [
    "#####Import raw count matrix (Salmon)"
   ]
  },
  {
   "cell_type": "code",
   "execution_count": 12,
   "id": "f2202522",
   "metadata": {},
   "outputs": [],
   "source": [
    "counts <- as.matrix(read.table('counts_from_SALMON.genes.tsv', header = T, sep = '\\t'))"
   ]
  },
  {
   "cell_type": "code",
   "execution_count": 13,
   "id": "33134af8",
   "metadata": {},
   "outputs": [
    {
     "data": {
      "text/html": [
       "TRUE"
      ],
      "text/latex": [
       "TRUE"
      ],
      "text/markdown": [
       "TRUE"
      ],
      "text/plain": [
       "[1] TRUE"
      ]
     },
     "metadata": {},
     "output_type": "display_data"
    }
   ],
   "source": [
    "all(rownames(colData) == colnames(counts))"
   ]
  },
  {
   "cell_type": "markdown",
   "id": "08b9a7b6",
   "metadata": {},
   "source": [
    "#####Construct the DEseq2 data set object"
   ]
  },
  {
   "cell_type": "code",
   "execution_count": null,
   "id": "ed431237",
   "metadata": {},
   "outputs": [],
   "source": [
    "dds <- DESeqDataSetFromMatrix(countData = counts, \n",
    "                              colData = colData, \n",
    "                              design = ~ group)"
   ]
  },
  {
   "cell_type": "markdown",
   "id": "14d0c156",
   "metadata": {},
   "source": [
    "#####Filter out genes with no reads"
   ]
  },
  {
   "cell_type": "code",
   "execution_count": 16,
   "id": "056a7443",
   "metadata": {},
   "outputs": [],
   "source": [
    "dds <- dds[rowSums(DESeq2::counts(dds)) >= 1,]"
   ]
  },
  {
   "cell_type": "markdown",
   "id": "f6c5e96f",
   "metadata": {},
   "source": [
    "#####Run differential expression analysis"
   ]
  },
  {
   "cell_type": "code",
   "execution_count": null,
   "id": "8b8fb675",
   "metadata": {},
   "outputs": [],
   "source": [
    "dds <- DESeq(dds)"
   ]
  },
  {
   "cell_type": "markdown",
   "id": "8dc36f26",
   "metadata": {},
   "source": [
    "####Plot counts of single gene (CTCF)"
   ]
  },
  {
   "cell_type": "code",
   "execution_count": 25,
   "id": "ff3a0cc0",
   "metadata": {
    "scrolled": true
   },
   "outputs": [
    {
     "name": "stderr",
     "output_type": "stream",
     "text": [
      "Bin width defaults to 1/30 of the range of the data. Pick better value with `binwidth`.\n",
      "\n"
     ]
    },
    {
     "data": {
      "image/png": "[encoded data removed]",
      "text/plain": [
       "plot without title"
      ]
     },
     "metadata": {
      "image/png": {
       "height": 420,
       "width": 420
      }
     },
     "output_type": "display_data"
    }
   ],
   "source": [
    "plot_CTCF_controls <- plotCounts(dds, gene = 'ENSMUST00000005841.15',\n",
    "           intgroup = c('group', 'condition'), returnData=TRUE) \n",
    "\n",
    "ggplot(plot_CTCF_controls, aes(x=group, y=count)) + geom_dotplot(binaxis='y', stackdir='center')+\n",
    "  theme_classic(base_size = 18) +\n",
    "  labs(x=\"Group\", y = \"Normalized count\")+\n",
    "  ylim(0,6500)+\n",
    "  scale_x_discrete(labels=c(\"CTCF_depletion\" = \"CTCF-AID +AUX\", \"no_IAA_control\" = \"CTCF-AID\",\n",
    "                            \"WT_control\" = \"G4 WT\"))+\n",
    "  ggtitle(\"CTCF\") + theme(plot.title = element_text(hjust = 0.5))\n"
   ]
  }
 ],
 "metadata": {
  "kernelspec": {
   "display_name": "R",
   "language": "R",
   "name": "ir"
  },
  "language_info": {
   "codemirror_mode": "r",
   "file_extension": ".r",
   "mimetype": "text/x-r-source",
   "name": "R",
   "pygments_lexer": "r",
   "version": "4.1.2"
  }
 },
 "nbformat": 4,
 "nbformat_minor": 5
}
